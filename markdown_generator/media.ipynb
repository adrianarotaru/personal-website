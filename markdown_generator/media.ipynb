{
 "cells": [
  {
   "attachments": {},
   "cell_type": "markdown",
   "metadata": {
    "deletable": true,
    "editable": true
   },
   "source": [
    "# Media markdown generator for academicpages\n",
    "\n",
    "Takes a TSV of media with metadata and converts them for use with [adrianarotaru.github.io](academicpages.github.io). This is an interactive Jupyter notebook ([see more info here](https://jupyter-notebook-beginner-guide.readthedocs.io/en/latest/what_is_jupyter.html)). The core python code is also in `media.py`. Run either from the `markdown_generator` folder after replacing `media.tsv` with one containing your data.\n",
    "\n",
    "TODO: Make this work with BibTex and other databases, rather than Stuart's non-standard TSV format and citation style."
   ]
  },
  {
   "cell_type": "code",
   "execution_count": 41,
   "metadata": {
    "collapsed": false,
    "deletable": true,
    "editable": true
   },
   "outputs": [],
   "source": [
    "import pandas as pd\n",
    "import os"
   ]
  },
  {
   "attachments": {},
   "cell_type": "markdown",
   "metadata": {},
   "source": [
    "## Data format\n",
    "\n",
    "The TSV needs to have the following columns: title, type, url_slug, venue, date, location, article_url, description, with a header at the top. Many of these fields can be blank, but the columns must be in the TSV.\n",
    "\n",
    "- Fields that cannot be blank: `title`, `url_slug`, `date`. All else can be blank. `type` defaults to \"Article\" \n",
    "- `date` must be formatted as YYYY-MM-DD.\n",
    "- `url_slug` will be the descriptive part of the .md file and the permalink URL for the page about the paper. \n",
    "    - The .md file will be `YYYY-MM-DD-[url_slug].md` and the permalink will be `https://[yourdomain]/media/YYYY-MM-DD-[url_slug]`\n",
    "    - The combination of `url_slug` and `date` must be unique, as it will be the basis for your filenames\n",
    "\n",
    "This is how the raw file looks (it doesn't look pretty, use a spreadsheet or other program to edit and create)."
   ]
  },
  {
   "cell_type": "code",
   "execution_count": 42,
   "metadata": {
    "collapsed": false
   },
   "outputs": [
    {
     "name": "stdout",
     "output_type": "stream",
     "text": [
      "title\ttype\turl_slug\tvenue\tdate\tlocation\tarticle_url\tdescription\timage\n",
      "EU parliament visit, at the invitation of Siegfried Muresanu, Current Vice-President of the European People's Party\tArticle\tEU-visit\tEU Parliament Visit\t2016-04-19\tBrussels, Belgium\thttps://diez.md/2016/04/19/foto-tinerele-lidere-de-la-leadershe-young-womens-academy-au-vizitat-parlamentul-european/\tAccording a report released by the Moldovan National Bureau of Statistics, Women and girls occupy only 31% of jobs in the ICT sector in Moldova and only 19% of digital professions. As an advocate for women representation in science and equal gender rights in Moldova, I have been invited by members of the EU Parliament to participate to the dialogue about policy making addressing representation of women in science and politics.\t../images/visit.png\n",
      "Nomination for the 'Best Bachelor's Student Abroad' by the Gala of Students Originating from Moldova, VIII-th Edition\tArticle\tbest-student\tGala of Students Originating from Moldova\t2019-09-15\tChisinau, Moldova\thttps://unica.md/monden/lista-celor-mai-buni-studenti-moldoveni-care-isi-fac-studiile-in-strainatate/\tThe Gala of Students Originating from Moldova nominates 27 students originating from Moldova who study abroad for outstanding academic performances and professional achievements.\t../images/gala.png\n",
      "Media Article about Robotics as a field and my professional journey\tArticle\tzdg-career\tZiarul de Garda\t2024-05-24\tChisinau, Moldova\thttps://www.zdg.md/reporter-special/oameni/oameni-tanara-din-r-moldova-absolventa-a-harvard-si-angajata-la-o-companie-cu-renume-mondial-cred-ca-exista-talent-imens-in-domeniul-tehnologiilor-in-r-moldova-care-merita-explorat/\t\"To make robots understand the complexity of human psychology, for example, feelings of happiness or empathy, researchers first need to understand how to model human thinking and experiences, so that they can then transfer that ability to technologies\"\t../images/zdg-photo.png\n"
     ]
    }
   ],
   "source": [
    "!cat media.tsv"
   ]
  },
  {
   "attachments": {},
   "cell_type": "markdown",
   "metadata": {},
   "source": [
    "## Import TSV\n",
    "\n",
    "Pandas makes this easy with the read_csv function. We are using a TSV, so we specify the separator as a tab, or `\\t`.\n",
    "\n",
    "I found it important to put this data in a tab-separated values format, because there are a lot of commas in this kind of data and comma-separated values can get messed up. However, you can modify the import statement, as pandas also has read_excel(), read_json(), and others."
   ]
  },
  {
   "cell_type": "code",
   "execution_count": 43,
   "metadata": {
    "collapsed": false,
    "deletable": true,
    "editable": true
   },
   "outputs": [
    {
     "data": {
      "text/html": [
       "<div>\n",
       "<style scoped>\n",
       "    .dataframe tbody tr th:only-of-type {\n",
       "        vertical-align: middle;\n",
       "    }\n",
       "\n",
       "    .dataframe tbody tr th {\n",
       "        vertical-align: top;\n",
       "    }\n",
       "\n",
       "    .dataframe thead th {\n",
       "        text-align: right;\n",
       "    }\n",
       "</style>\n",
       "<table border=\"1\" class=\"dataframe\">\n",
       "  <thead>\n",
       "    <tr style=\"text-align: right;\">\n",
       "      <th></th>\n",
       "      <th>title</th>\n",
       "      <th>type</th>\n",
       "      <th>url_slug</th>\n",
       "      <th>venue</th>\n",
       "      <th>date</th>\n",
       "      <th>location</th>\n",
       "      <th>article_url</th>\n",
       "      <th>description</th>\n",
       "      <th>image</th>\n",
       "    </tr>\n",
       "  </thead>\n",
       "  <tbody>\n",
       "    <tr>\n",
       "      <th>0</th>\n",
       "      <td>EU parliament visit, at the invitation of Sieg...</td>\n",
       "      <td>Article</td>\n",
       "      <td>EU-visit</td>\n",
       "      <td>EU Parliament Visit</td>\n",
       "      <td>2016-04-19</td>\n",
       "      <td>Brussels, Belgium</td>\n",
       "      <td>https://diez.md/2016/04/19/foto-tinerele-lider...</td>\n",
       "      <td>According a report released by the Moldovan Na...</td>\n",
       "      <td>../images/visit.png</td>\n",
       "    </tr>\n",
       "    <tr>\n",
       "      <th>1</th>\n",
       "      <td>Nomination for the 'Best Bachelor's Student Ab...</td>\n",
       "      <td>Article</td>\n",
       "      <td>best-student</td>\n",
       "      <td>Gala of Students Originating from Moldova</td>\n",
       "      <td>2019-09-15</td>\n",
       "      <td>Chisinau, Moldova</td>\n",
       "      <td>https://unica.md/monden/lista-celor-mai-buni-s...</td>\n",
       "      <td>The Gala of Students Originating from Moldova ...</td>\n",
       "      <td>../images/gala.png</td>\n",
       "    </tr>\n",
       "    <tr>\n",
       "      <th>2</th>\n",
       "      <td>Media Article about Robotics as a field and my...</td>\n",
       "      <td>Article</td>\n",
       "      <td>zdg-career</td>\n",
       "      <td>Ziarul de Garda</td>\n",
       "      <td>2024-05-24</td>\n",
       "      <td>Chisinau, Moldova</td>\n",
       "      <td>https://www.zdg.md/reporter-special/oameni/oam...</td>\n",
       "      <td>To make robots understand the complexity of hu...</td>\n",
       "      <td>../images/zdg-photo.png</td>\n",
       "    </tr>\n",
       "  </tbody>\n",
       "</table>\n",
       "</div>"
      ],
      "text/plain": [
       "                                               title     type      url_slug   \n",
       "0  EU parliament visit, at the invitation of Sieg...  Article      EU-visit  \\\n",
       "1  Nomination for the 'Best Bachelor's Student Ab...  Article  best-student   \n",
       "2  Media Article about Robotics as a field and my...  Article    zdg-career   \n",
       "\n",
       "                                       venue        date           location   \n",
       "0                        EU Parliament Visit  2016-04-19  Brussels, Belgium  \\\n",
       "1  Gala of Students Originating from Moldova  2019-09-15  Chisinau, Moldova   \n",
       "2                            Ziarul de Garda  2024-05-24  Chisinau, Moldova   \n",
       "\n",
       "                                         article_url   \n",
       "0  https://diez.md/2016/04/19/foto-tinerele-lider...  \\\n",
       "1  https://unica.md/monden/lista-celor-mai-buni-s...   \n",
       "2  https://www.zdg.md/reporter-special/oameni/oam...   \n",
       "\n",
       "                                         description                    image  \n",
       "0  According a report released by the Moldovan Na...      ../images/visit.png  \n",
       "1  The Gala of Students Originating from Moldova ...       ../images/gala.png  \n",
       "2  To make robots understand the complexity of hu...  ../images/zdg-photo.png  "
      ]
     },
     "execution_count": 43,
     "metadata": {},
     "output_type": "execute_result"
    }
   ],
   "source": [
    "media = pd.read_csv(\"media.tsv\", sep=\"\\t\", header=0)\n",
    "media"
   ]
  },
  {
   "attachments": {},
   "cell_type": "markdown",
   "metadata": {},
   "source": [
    "## Escape special characters\n",
    "\n",
    "YAML is very picky about how it takes a valid string, so we are replacing single and double quotes (and ampersands) with their HTML encoded equivilents. This makes them look not so readable in raw format, but they are parsed and rendered nicely."
   ]
  },
  {
   "cell_type": "code",
   "execution_count": 44,
   "metadata": {
    "collapsed": false,
    "deletable": true,
    "editable": true
   },
   "outputs": [],
   "source": [
    "html_escape_table = {\n",
    "    \"&\": \"&amp;\",\n",
    "    '\"': \"&quot;\",\n",
    "    \"'\": \"&apos;\"\n",
    "    }\n",
    "\n",
    "def html_escape(text):\n",
    "    if type(text) is str:\n",
    "        return \"\".join(html_escape_table.get(c,c) for c in text)\n",
    "    else:\n",
    "        return \"False\""
   ]
  },
  {
   "attachments": {},
   "cell_type": "markdown",
   "metadata": {},
   "source": [
    "## Creating the markdown files\n",
    "\n",
    "This is where the heavy lifting is done. This loops through all the rows in the TSV dataframe, then starts to concatentate a big string (```md```) that contains the markdown for each type. It does the YAML metadata first, then does the description for the individual page."
   ]
  },
  {
   "cell_type": "code",
   "execution_count": 45,
   "metadata": {
    "collapsed": false,
    "deletable": true,
    "editable": true
   },
   "outputs": [],
   "source": [
    "loc_dict = {}\n",
    "\n",
    "for row, item in media.iterrows():\n",
    "    \n",
    "    md_filename = str(item.date) + \"-\" + item.url_slug + \".md\"\n",
    "    html_filename = str(item.date) + \"-\" + item.url_slug \n",
    "    year = item.date[:4]\n",
    "    \n",
    "    md = \"---\\ntitle: \\\"\"   + item.title + '\"\\n'\n",
    "    md += \"collection: media\" + \"\\n\"\n",
    "    \n",
    "    if len(str(item.type)) > 3:\n",
    "        md += 'type: \"' + item.type + '\"\\n'\n",
    "    else:\n",
    "        md += 'type: \"Article\"\\n'\n",
    "    \n",
    "    md += \"permalink: /article/\" + html_filename + \"\\n\"\n",
    "    \n",
    "    if len(str(item.venue)) > 3:\n",
    "        md += 'venue: \"' + item.venue + '\"\\n'\n",
    "        \n",
    "    if len(str(item.location)) > 3:\n",
    "        md += \"date: \" + str(item.date) + \"\\n\"\n",
    "    \n",
    "    if len(str(item.location)) > 3:\n",
    "        md += 'location: \"' + str(item.location) + '\"\\n'\n",
    "           \n",
    "    md += \"---\\n\"\n",
    "    \n",
    "    \n",
    "    if len(str(item.article_url)) > 3:\n",
    "        md += \"\\n[More information here](\" + item.article_url + \")\\n\" \n",
    "        \n",
    "    \n",
    "    if len(str(item.description)) > 3:\n",
    "        md += \"\\n\" + html_escape(item.description) + \"\\n\"\n",
    "        \n",
    "    if len(str(item.image)) > 3: \n",
    "        md +=f\"\\n![Image]({item.image})\\n\"     \n",
    "    md_filename = os.path.basename(md_filename)\n",
    "    #print(md)\n",
    "    \n",
    "    with open(\"../_media/\" + md_filename, 'w') as f:\n",
    "        f.write(md)"
   ]
  },
  {
   "attachments": {},
   "cell_type": "markdown",
   "metadata": {},
   "source": [
    "These files are in the media directory, one directory below where we're working from."
   ]
  },
  {
   "cell_type": "code",
   "execution_count": 46,
   "metadata": {
    "collapsed": false,
    "deletable": true,
    "editable": true
   },
   "outputs": [
    {
     "name": "stdout",
     "output_type": "stream",
     "text": [
      "2016-04-19-EU-visit.md     2024-05-24-zdg-career.md\n",
      "2019-09-15-best-student.md\n"
     ]
    }
   ],
   "source": [
    "!ls ../_media"
   ]
  },
  {
   "cell_type": "code",
   "execution_count": 47,
   "metadata": {
    "collapsed": false,
    "deletable": true,
    "editable": true
   },
   "outputs": [
    {
     "name": "stdout",
     "output_type": "stream",
     "text": [
      "cat: ../_media/2013-03-01-tutorial-1.md: No such file or directory\n"
     ]
    }
   ],
   "source": [
    "!cat ../_media/2013-03-01-tutorial-1.md"
   ]
  }
 ],
 "metadata": {
  "kernelspec": {
   "display_name": "Python 3",
   "language": "python",
   "name": "python3"
  },
  "language_info": {
   "codemirror_mode": {
    "name": "ipython",
    "version": 3
   },
   "file_extension": ".py",
   "mimetype": "text/x-python",
   "name": "python",
   "nbconvert_exporter": "python",
   "pygments_lexer": "ipython3",
   "version": "3.10.4"
  }
 },
 "nbformat": 4,
 "nbformat_minor": 0
}
